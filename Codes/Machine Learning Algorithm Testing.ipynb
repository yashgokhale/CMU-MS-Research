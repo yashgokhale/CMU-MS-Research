{
 "cells": [
  {
   "cell_type": "markdown",
   "metadata": {},
   "source": [
    "# Machine Learning Algorithm Testing:\n",
    "1. Linear Regression\n",
    "2. Decision Tree\n",
    "3. Neural Network"
   ]
  },
  {
   "cell_type": "code",
   "execution_count": 1,
   "metadata": {},
   "outputs": [],
   "source": [
    "from scipy.io import netcdf\n",
    "import numpy as np\n",
    "import matplotlib.pyplot as plt\n",
    "from netCDF4 import Dataset\n",
    "import pandas as pd\n",
    "import matplotlib.pyplot as plt\n",
    "import statistics\n",
    "import math\n",
    "import os,sys\n",
    "import matplotlib.style\n",
    "\n",
    "import matplotlib\n",
    "\n",
    "matplotlib.style.use('classic')\n",
    "import time"
   ]
  },
  {
   "cell_type": "code",
   "execution_count": 2,
   "metadata": {},
   "outputs": [],
   "source": [
    "import glob,os,sys\n",
    "os.chdir('C:/Users/yashg/Documents/Cloud_Data_Files')\n",
    "def read_files(extensions,location):\n",
    "    l=[]\n",
    "    for types in extensions:\n",
    "        l.append(glob.glob(f'./{location}/*{types}'))\n",
    "    l=[val for sublist in l for val in sublist]\n",
    "    return l\n",
    "\n",
    "k=read_files(['.cdf','.nc'],'KAZRARSCL')\n",
    "m=read_files(['.cdf','.nc'],'Microbase')\n",
    "r=read_files(['.cdf','.nc'],'Raman Lidar')\n",
    "s=read_files(['.cdf','.nc'],'Surface')\n",
    "e=read_files(['.cdf','.nc'],'Ext')\n",
    "mp=read_files(['.cdf','.nc'],'Micropulse')\n",
    "mwr=read_files(['.cdf','.nc'],'mwrret')\n",
    "master=k+m+r+s+e+mp+mwr\n",
    "\n",
    "def date_files(date,master=master):\n",
    "    f=[]\n",
    "    for file in master:\n",
    "        if date in file:\n",
    "            f.append(file)\n",
    "    return f\n",
    "\n",
    "def generate_cdfs(date):\n",
    "    l=[]\n",
    "    f=date_files(date)\n",
    "    for file in f:\n",
    "        l.append(Dataset(file))\n",
    "    print('Output has 6 files')\n",
    "    print('File order is\\t1.KAZRARSCL\\t2.Microbase\\t3.Raman Lidar\\t4. Surface\\t5. Ext\\t6.Micropulse\\t 7.Mwrret')\n",
    "    return l"
   ]
  },
  {
   "cell_type": "code",
   "execution_count": 3,
   "metadata": {},
   "outputs": [
    {
     "name": "stdout",
     "output_type": "stream",
     "text": [
      "Output has 6 files\n",
      "File order is\t1.KAZRARSCL\t2.Microbase\t3.Raman Lidar\t4. Surface\t5. Ext\t6.Micropulse\t 7.Mwrret\n"
     ]
    }
   ],
   "source": [
    "k1,m1,r1,s1,e1,mp1,mwr1=generate_cdfs('20110505')"
   ]
  },
  {
   "cell_type": "code",
   "execution_count": 4,
   "metadata": {},
   "outputs": [],
   "source": [
    "tk=k1['time'][:]\n",
    "hk=k1['height'][:]\n",
    "tr=r1['time'][:]\n",
    "hr=r1['height'][:]*1000\n",
    "ref=10**(k1['reflectivity'][:]/10)\n",
    "v=np.abs(k1['mean_doppler_velocity'][:])\n",
    "temp=r1['temperature'][:]+273.15\n",
    "lwc_mb=m1['liquid_water_content'][:]"
   ]
  },
  {
   "cell_type": "code",
   "execution_count": 5,
   "metadata": {},
   "outputs": [],
   "source": [
    "def st_clustering(t1,h1,t2,h2):\n",
    "    t_clust=[]\n",
    "    h_clust=[]\n",
    "    output_resolution=(len(t1),len(h1))\n",
    "    data_resolution=(len(t2),len(h2))\n",
    "    print('--------Start of clustering cycle--------')\n",
    "    print(f'Changing time resolution from {len(t2)}->{len(t1)}')\n",
    "    print(f'Changing height resolution from {len(h2)}->{len(h1)}')\n",
    "    if len(t1)>len(t2):\n",
    "        print('You are increasing time resolution')\n",
    "        for i in t1:\n",
    "            x=np.argmin(np.abs(i-t2))\n",
    "            t_clust.append(x)\n",
    "    else:\n",
    "        print('You are decreasing time resolution')\n",
    "        for i in range(len(t1)):\n",
    "            if i!=len(t1)-1:\n",
    "                ltemp=[m for m,x in enumerate(t2) if t1[i]<= x <=t1[i+1]]\n",
    "                t_clust.append(ltemp)\n",
    "            else:\n",
    "                ltemp=[m for m,x in enumerate(t2) if t1[i]<= x]\n",
    "                t_clust.append(ltemp) \n",
    "    if len(h1)>len(h2):\n",
    "        print('You are increasing height resolution')\n",
    "        for i in h1:\n",
    "            x=np.argmin(np.abs(i-h2))\n",
    "            h_clust.append(x)\n",
    "    else:\n",
    "        print('You are decreasing height resolution')     \n",
    "        for i in range(len(h1)):\n",
    "            if i!=len(h1)-1:\n",
    "                ltemp=[m for m,x in enumerate(h2) if h1[i]<= x <=h1[i+1]]\n",
    "                h_clust.append(ltemp)\n",
    "            else:\n",
    "                ltemp=[m for m,x in enumerate(h2) if h1[i]<= x]\n",
    "                h_clust.append(ltemp) \n",
    "    print('--------End of clustering cycle--------')\n",
    "    return t_clust,h_clust"
   ]
  },
  {
   "cell_type": "code",
   "execution_count": 6,
   "metadata": {},
   "outputs": [
    {
     "name": "stdout",
     "output_type": "stream",
     "text": [
      "--------Start of clustering cycle--------\n",
      "Changing time resolution from 144->21600\n",
      "Changing height resolution from 198->596\n",
      "You are increasing time resolution\n",
      "You are increasing height resolution\n",
      "--------End of clustering cycle--------\n",
      "--------Start of clustering cycle--------\n",
      "Changing time resolution from 1440->21600\n",
      "Changing height resolution from 198->596\n",
      "You are increasing time resolution\n",
      "You are increasing height resolution\n",
      "--------End of clustering cycle--------\n"
     ]
    }
   ],
   "source": [
    "tc,hc=st_clustering(tk,hk,tr,hr)\n",
    "temp_cl=[]\n",
    "for i in tc:\n",
    "    for j in hc:\n",
    "        temp_cl.append(temp[i,j])\n",
    "temp_cl=np.array(temp_cl)\n",
    "temp_cl=np.reshape(temp_cl,(len(tk),len(hk)))\n",
    "ts=np.ma.filled(s1['time'][:])\n",
    "ccn=np.ma.filled(s1['N_CCN'][:])\n",
    "tc2,dummy=st_clustering(tk,hk,ts,hr)\n",
    "ccn_ts=[ccn[i] for i in tc2]\n",
    "u=[]\n",
    "for p in ccn_ts:\n",
    "    u.append([p]*len(hk))\n",
    "ccn_cl=np.array(u)"
   ]
  },
  {
   "cell_type": "code",
   "execution_count": 63,
   "metadata": {},
   "outputs": [
    {
     "name": "stdout",
     "output_type": "stream",
     "text": [
      "-9999.0 1e+20 -9999.0\n"
     ]
    }
   ],
   "source": [
    "v.shape,ref.shape,lwc_mb.shape,ccn_cl.shape,temp_cl.shape\n",
    "print(v.fill_value,ref.fill_value,lwc_mb.fill_value)"
   ]
  },
  {
   "cell_type": "code",
   "execution_count": 52,
   "metadata": {},
   "outputs": [],
   "source": [
    "vf=np.ndarray.flatten(np.ma.filled(v))\n",
    "reff=np.ndarray.flatten(np.ma.filled(ref))\n",
    "lwcf=np.ndarray.flatten(np.ma.filled(lwc_mb))\n",
    "ccnf=np.ndarray.flatten(np.ma.filled(ccn_cl))\n",
    "temf=np.ndarray.flatten(np.ma.filled(temp_cl))\n",
    "data=np.column_stack((vf,reff,lwcf,ccnf,temf))"
   ]
  },
  {
   "cell_type": "code",
   "execution_count": 70,
   "metadata": {},
   "outputs": [],
   "source": [
    "df={'v':vf,'ref':reff,'ccn':ccnf,'temp':temf,'lwc':lwcf}\n",
    "d=pd.DataFrame(df)"
   ]
  },
  {
   "cell_type": "code",
   "execution_count": 71,
   "metadata": {},
   "outputs": [],
   "source": [
    "data=d[(d['v']!=v.fill_value) & (d['ref']!=ref.fill_value) & ((d['lwc']!=lwc_mb.fill_value)) ]"
   ]
  },
  {
   "cell_type": "code",
   "execution_count": 73,
   "metadata": {},
   "outputs": [],
   "source": [
    "X=data.iloc[:,:-1]\n",
    "y=data.iloc[:,-1]"
   ]
  },
  {
   "cell_type": "code",
   "execution_count": 75,
   "metadata": {},
   "outputs": [],
   "source": [
    "from sklearn.model_selection import train_test_split\n",
    "X_train,X_test,y_train,y_test=train_test_split(X,y,test_size=0.7,random_state=19)"
   ]
  },
  {
   "cell_type": "code",
   "execution_count": 76,
   "metadata": {},
   "outputs": [
    {
     "name": "stdout",
     "output_type": "stream",
     "text": [
      "intercept=0.10209758579730988\n",
      "Velocity:0.0013444513315334916\n",
      "Reflectivity:-0.00010453291179146618\n",
      "CCN:-3.4180848160758615e-06\n",
      "Temperature:-0.0003286342544015497\n"
     ]
    }
   ],
   "source": [
    "from sklearn.linear_model import LinearRegression\n",
    "reg=LinearRegression().fit(X_train,y_train)\n",
    "coeff=reg.coef_\n",
    "b=reg.intercept_\n",
    "print(f'intercept={b}')\n",
    "Xlist=['Velocity','Reflectivity','CCN','Temperature']\n",
    "for i,f in enumerate(Xlist):\n",
    "    print(f'{f}:{coeff[i]}')"
   ]
  },
  {
   "cell_type": "code",
   "execution_count": 77,
   "metadata": {},
   "outputs": [
    {
     "data": {
      "text/plain": [
       "0.01578367457691654"
      ]
     },
     "execution_count": 77,
     "metadata": {},
     "output_type": "execute_result"
    }
   ],
   "source": [
    "from sklearn.metrics import r2_score\n",
    "ypred=reg.predict(X_test)\n",
    "r2_score(y_test,ypred)"
   ]
  },
  {
   "cell_type": "code",
   "execution_count": 81,
   "metadata": {},
   "outputs": [
    {
     "data": {
      "image/png": "[encoded data removed]",
      "text/plain": [
       "<Figure size 432x288 with 1 Axes>"
      ]
     },
     "metadata": {
      "needs_background": "light"
     },
     "output_type": "display_data"
    }
   ],
   "source": [
    "plt.plot(y_test,ypred)\n",
    "plt.xlabel('Test set')\n",
    "plt.ylabel('Predicted')\n",
    "plt.show()"
   ]
  },
  {
   "cell_type": "code",
   "execution_count": 82,
   "metadata": {},
   "outputs": [
    {
     "data": {
      "text/plain": [
       "0.3724413749951241"
      ]
     },
     "execution_count": 82,
     "metadata": {},
     "output_type": "execute_result"
    }
   ],
   "source": [
    "from sklearn.metrics import mean_squared_error\n",
    "from sklearn.tree import DecisionTreeRegressor\n",
    "regressor=DecisionTreeRegressor(random_state=0)\n",
    "regressor.fit(X_train,y_train)\n",
    "y_pred=regressor.predict(X_test)\n",
    "r2_score(y_test,y_pred)"
   ]
  },
  {
   "cell_type": "code",
   "execution_count": 86,
   "metadata": {},
   "outputs": [
    {
     "data": {
      "image/png": "[encoded data removed]",
      "text/plain": [
       "<Figure size 432x288 with 1 Axes>"
      ]
     },
     "metadata": {
      "needs_background": "light"
     },
     "output_type": "display_data"
    }
   ],
   "source": [
    "plt.plot(y_test,y_pred,'.')\n",
    "plt.plot([0,2],[0,2])\n",
    "plt.xlabel('Test set')\n",
    "plt.ylabel('Predicted')\n",
    "plt.show()"
   ]
  },
  {
   "cell_type": "code",
   "execution_count": 87,
   "metadata": {},
   "outputs": [],
   "source": [
    "from sklearn import datasets, linear_model\n",
    "from sklearn.model_selection import cross_validate\n",
    "from sklearn.metrics import make_scorer\n",
    "from sklearn.metrics import confusion_matrix\n",
    "from sklearn.tree import DecisionTreeRegressor"
   ]
  },
  {
   "cell_type": "code",
   "execution_count": 95,
   "metadata": {},
   "outputs": [
    {
     "name": "stdout",
     "output_type": "stream",
     "text": [
      "[ -0.31584383  -0.12654599 -10.14430817]\n"
     ]
    }
   ],
   "source": [
    "regressor=DecisionTreeRegressor(random_state=0)\n",
    "scores= cross_validate(regressor, X, y, cv=3,scoring=('r2','neg_mean_squared_error'),return_train_score=True)\n",
    "print(scores['test_r2'])"
   ]
  },
  {
   "cell_type": "code",
   "execution_count": 101,
   "metadata": {},
   "outputs": [
    {
     "name": "stdout",
     "output_type": "stream",
     "text": [
      "For Regression\n",
      "0.015785178642192643\n",
      "0.016004045064472505\n",
      "0.015869921681710086\n",
      "0.01595546417939575\n",
      "0.01550104745398695\n",
      "0.015951536829657664\n",
      "0.015492756589570167\n",
      "0.015841954939891045\n",
      "0.016034766340873197\n",
      "0.01576199219390817\n",
      "0.015520525175372613\n",
      "0.01548993965903911\n",
      "0.01580384798246104\n",
      "0.015206501623410307\n",
      "0.015660599994997915\n",
      "0.01576846300616197\n",
      "0.015798268795611192\n",
      "0.015624555037665688\n",
      "0.01578145706652201\n",
      "0.01578367457691654\n"
     ]
    }
   ],
   "source": [
    "print('For Regression')\n",
    "for p in range(0,20):\n",
    "    X_train,X_test,y_train,y_test=train_test_split(X,y,test_size=0.7,random_state=p)\n",
    "    regressor=LinearRegression()\n",
    "    regressor.fit(X_train,y_train)\n",
    "    y_pred=regressor.predict(X_test)\n",
    "    rr=r2_score(y_test,y_pred)   \n",
    "    print(rr)"
   ]
  },
  {
   "cell_type": "code",
   "execution_count": 98,
   "metadata": {},
   "outputs": [
    {
     "name": "stdout",
     "output_type": "stream",
     "text": [
      "For Decision Tree\n",
      "0.3724413749951241\n",
      "0.36992103610330995\n",
      "0.3588689343613337\n",
      "0.391296716036337\n",
      "0.3875036363845086\n",
      "0.3739010724429681\n",
      "0.387433002822375\n",
      "0.4033981816103329\n",
      "0.3569970628881849\n",
      "0.39341263594301934\n",
      "0.398483893984828\n",
      "0.3951805619847115\n",
      "0.38677654244847626\n",
      "0.4042580451397687\n",
      "0.38013366942514226\n",
      "0.37040940107227704\n",
      "0.3858830754038377\n",
      "0.37121966006778817\n",
      "0.3809929904139584\n",
      "0.37535700098412406\n"
     ]
    }
   ],
   "source": [
    "print('For Decision Tree')\n",
    "for p in range(0,20):\n",
    "    regressor=DecisionTreeRegressor(random_state=p)\n",
    "    regressor.fit(X_train,y_train)\n",
    "    y_pred=regressor.predict(X_test)\n",
    "    rr=r2_score(y_test,y_pred)   \n",
    "    print(rr)"
   ]
  },
  {
   "cell_type": "code",
   "execution_count": 102,
   "metadata": {},
   "outputs": [
    {
     "name": "stderr",
     "output_type": "stream",
     "text": [
      "WARNING:tensorflow:\n",
      "\n",
      "  TensorFlow's `tf-nightly` package will soon be updated to TensorFlow 2.0.\n",
      "\n",
      "  Please upgrade your code to TensorFlow 2.0:\n",
      "    * https://www.tensorflow.org/beta/guide/migration_guide\n",
      "\n",
      "  Or install the latest stable TensorFlow 1.X release:\n",
      "    * `pip install -U \"tensorflow==1.*\"`\n",
      "\n",
      "  Otherwise your code may be broken by the change.\n",
      "\n",
      "  \n"
     ]
    }
   ],
   "source": [
    "#Constructing Neural Network\n",
    "import matplotlib.pyplot as plt\n",
    "import numpy as np\n",
    "import pandas as pd\n",
    "from sklearn.model_selection import train_test_split\n",
    "from sklearn.model_selection import cross_val_score\n",
    "from sklearn.model_selection import KFold\n",
    "from sklearn.pipeline import Pipeline\n",
    "from sklearn.preprocessing import MinMaxScaler\n",
    "from tensorflow.python.keras.models import Sequential\n",
    "from tensorflow.python.keras.layers import Dense\n",
    "from tensorflow.python.keras.wrappers.scikit_learn import KerasRegressor"
   ]
  },
  {
   "cell_type": "code",
   "execution_count": 114,
   "metadata": {},
   "outputs": [],
   "source": [
    "scaler_x=MinMaxScaler()\n",
    "scaler_y=MinMaxScaler()\n",
    "xscale=scaler_x.fit_transform(X)\n",
    "y=np.array(y).reshape((-1,1))\n",
    "yscale=scaler_y.fit_transform(y)\n",
    "X_train, X_test, y_train, y_test = train_test_split(xscale, yscale)"
   ]
  },
  {
   "cell_type": "code",
   "execution_count": 119,
   "metadata": {},
   "outputs": [
    {
     "name": "stdout",
     "output_type": "stream",
     "text": [
      "Model: \"sequential_1\"\n",
      "_________________________________________________________________\n",
      "Layer (type)                 Output Shape              Param #   \n",
      "=================================================================\n",
      "dense_3 (Dense)              (None, 12)                60        \n",
      "_________________________________________________________________\n",
      "dense_4 (Dense)              (None, 8)                 104       \n",
      "_________________________________________________________________\n",
      "dense_5 (Dense)              (None, 1)                 9         \n",
      "=================================================================\n",
      "Total params: 173\n",
      "Trainable params: 173\n",
      "Non-trainable params: 0\n",
      "_________________________________________________________________\n"
     ]
    }
   ],
   "source": [
    "model = Sequential()\n",
    "model.add(Dense(12, input_dim=4, kernel_initializer='normal', activation='relu'))\n",
    "model.add(Dense(8, activation='relu'))\n",
    "model.add(Dense(1, activation='linear'))\n",
    "model.summary()"
   ]
  },
  {
   "cell_type": "code",
   "execution_count": 132,
   "metadata": {},
   "outputs": [
    {
     "name": "stdout",
     "output_type": "stream",
     "text": [
      "Train on 357314 samples, validate on 89329 samples\n",
      "Epoch 1/50\n",
      "357314/357314 [==============================] - 7s 19us/sample - loss: 1.8072e-04 - mean_squared_error: 1.8072e-04 - mean_absolute_error: 0.0030 - val_loss: 2.0181e-04 - val_mean_squared_error: 2.0181e-04 - val_mean_absolute_error: 0.0040\n",
      "Epoch 2/50\n",
      "357314/357314 [==============================] - 8s 22us/sample - loss: 1.7987e-04 - mean_squared_error: 1.7987e-04 - mean_absolute_error: 0.0030 - val_loss: 1.9444e-04 - val_mean_squared_error: 1.9444e-04 - val_mean_absolute_error: 0.0024\n",
      "Epoch 3/50\n",
      "357314/357314 [==============================] - 8s 22us/sample - loss: 1.7935e-04 - mean_squared_error: 1.7935e-04 - mean_absolute_error: 0.0030 - val_loss: 1.8940e-04 - val_mean_squared_error: 1.8940e-04 - val_mean_absolute_error: 0.0023\n",
      "Epoch 4/50\n",
      "357314/357314 [==============================] - 8s 22us/sample - loss: 1.7896e-04 - mean_squared_error: 1.7896e-04 - mean_absolute_error: 0.0030 - val_loss: 2.0036e-04 - val_mean_squared_error: 2.0036e-04 - val_mean_absolute_error: 0.0023\n",
      "Epoch 5/50\n",
      "357314/357314 [==============================] - 8s 22us/sample - loss: 1.7967e-04 - mean_squared_error: 1.7967e-04 - mean_absolute_error: 0.0030 - val_loss: 1.9408e-04 - val_mean_squared_error: 1.9408e-04 - val_mean_absolute_error: 0.0027\n",
      "Epoch 6/50\n",
      "357314/357314 [==============================] - 8s 21us/sample - loss: 1.7839e-04 - mean_squared_error: 1.7839e-04 - mean_absolute_error: 0.0030 - val_loss: 1.9181e-04 - val_mean_squared_error: 1.9181e-04 - val_mean_absolute_error: 0.0025\n",
      "Epoch 7/50\n",
      "357314/357314 [==============================] - 8s 22us/sample - loss: 1.7886e-04 - mean_squared_error: 1.7886e-04 - mean_absolute_error: 0.0029 - val_loss: 1.8998e-04 - val_mean_squared_error: 1.8998e-04 - val_mean_absolute_error: 0.0024\n",
      "Epoch 8/50\n",
      "357314/357314 [==============================] - 8s 21us/sample - loss: 1.7850e-04 - mean_squared_error: 1.7850e-04 - mean_absolute_error: 0.0030 - val_loss: 2.1402e-04 - val_mean_squared_error: 2.1402e-04 - val_mean_absolute_error: 0.0065\n",
      "Epoch 9/50\n",
      "357314/357314 [==============================] - 9s 26us/sample - loss: 1.7814e-04 - mean_squared_error: 1.7814e-04 - mean_absolute_error: 0.0029 - val_loss: 1.9166e-04 - val_mean_squared_error: 1.9166e-04 - val_mean_absolute_error: 0.0024\n",
      "Epoch 10/50\n",
      "357314/357314 [==============================] - 10s 27us/sample - loss: 1.7825e-04 - mean_squared_error: 1.7825e-04 - mean_absolute_error: 0.0029 - val_loss: 1.9883e-04 - val_mean_squared_error: 1.9883e-04 - val_mean_absolute_error: 0.0044\n",
      "Epoch 11/50\n",
      "357314/357314 [==============================] - 11s 30us/sample - loss: 1.7841e-04 - mean_squared_error: 1.7841e-04 - mean_absolute_error: 0.0029 - val_loss: 1.9271e-04 - val_mean_squared_error: 1.9271e-04 - val_mean_absolute_error: 0.0025\n",
      "Epoch 12/50\n",
      "357314/357314 [==============================] - 11s 31us/sample - loss: 1.7775e-04 - mean_squared_error: 1.7775e-04 - mean_absolute_error: 0.0029 - val_loss: 1.9384e-04 - val_mean_squared_error: 1.9384e-04 - val_mean_absolute_error: 0.0028\n",
      "Epoch 13/50\n",
      "357314/357314 [==============================] - 11s 31us/sample - loss: 1.7837e-04 - mean_squared_error: 1.7837e-04 - mean_absolute_error: 0.0030 - val_loss: 1.9117e-04 - val_mean_squared_error: 1.9117e-04 - val_mean_absolute_error: 0.0025\n",
      "Epoch 14/50\n",
      "357314/357314 [==============================] - 12s 33us/sample - loss: 1.7722e-04 - mean_squared_error: 1.7722e-04 - mean_absolute_error: 0.0029 - val_loss: 2.0933e-04 - val_mean_squared_error: 2.0933e-04 - val_mean_absolute_error: 0.0025\n",
      "Epoch 15/50\n",
      "357314/357314 [==============================] - 10s 27us/sample - loss: 1.7765e-04 - mean_squared_error: 1.7765e-04 - mean_absolute_error: 0.0029 - val_loss: 1.9943e-04 - val_mean_squared_error: 1.9943e-04 - val_mean_absolute_error: 0.0028\n",
      "Epoch 16/50\n",
      "357314/357314 [==============================] - 8s 22us/sample - loss: 1.7710e-04 - mean_squared_error: 1.7710e-04 - mean_absolute_error: 0.0029 - val_loss: 1.9124e-04 - val_mean_squared_error: 1.9124e-04 - val_mean_absolute_error: 0.0028\n",
      "Epoch 17/50\n",
      "357314/357314 [==============================] - 8s 22us/sample - loss: 1.7754e-04 - mean_squared_error: 1.7754e-04 - mean_absolute_error: 0.0029 - val_loss: 1.9410e-04 - val_mean_squared_error: 1.9410e-04 - val_mean_absolute_error: 0.0027\n",
      "Epoch 18/50\n",
      "357314/357314 [==============================] - 8s 22us/sample - loss: 1.7752e-04 - mean_squared_error: 1.7752e-04 - mean_absolute_error: 0.0029 - val_loss: 1.9049e-04 - val_mean_squared_error: 1.9049e-04 - val_mean_absolute_error: 0.0024\n",
      "Epoch 19/50\n",
      "357314/357314 [==============================] - 8s 22us/sample - loss: 1.7726e-04 - mean_squared_error: 1.7726e-04 - mean_absolute_error: 0.0029 - val_loss: 1.9344e-04 - val_mean_squared_error: 1.9344e-04 - val_mean_absolute_error: 0.0029\n",
      "Epoch 20/50\n",
      "357314/357314 [==============================] - 8s 22us/sample - loss: 1.7688e-04 - mean_squared_error: 1.7688e-04 - mean_absolute_error: 0.0029 - val_loss: 1.9170e-04 - val_mean_squared_error: 1.9170e-04 - val_mean_absolute_error: 0.0022\n",
      "Epoch 21/50\n",
      "357314/357314 [==============================] - 8s 22us/sample - loss: 1.7799e-04 - mean_squared_error: 1.7799e-04 - mean_absolute_error: 0.0029 - val_loss: 2.0121e-04 - val_mean_squared_error: 2.0121e-04 - val_mean_absolute_error: 0.0033\n",
      "Epoch 22/50\n",
      "357314/357314 [==============================] - 9s 25us/sample - loss: 1.7695e-04 - mean_squared_error: 1.7695e-04 - mean_absolute_error: 0.0029 - val_loss: 1.8991e-04 - val_mean_squared_error: 1.8991e-04 - val_mean_absolute_error: 0.0027\n",
      "Epoch 23/50\n",
      "357314/357314 [==============================] - 9s 26us/sample - loss: 1.7678e-04 - mean_squared_error: 1.7678e-04 - mean_absolute_error: 0.0029 - val_loss: 1.9323e-04 - val_mean_squared_error: 1.9323e-04 - val_mean_absolute_error: 0.0023\n",
      "Epoch 24/50\n",
      "357314/357314 [==============================] - 11s 30us/sample - loss: 1.7780e-04 - mean_squared_error: 1.7780e-04 - mean_absolute_error: 0.0029 - val_loss: 1.9604e-04 - val_mean_squared_error: 1.9604e-04 - val_mean_absolute_error: 0.0039\n",
      "Epoch 25/50\n",
      "357314/357314 [==============================] - 11s 31us/sample - loss: 1.7663e-04 - mean_squared_error: 1.7663e-04 - mean_absolute_error: 0.0029 - val_loss: 1.9430e-04 - val_mean_squared_error: 1.9430e-04 - val_mean_absolute_error: 0.0031\n",
      "Epoch 26/50\n",
      "357314/357314 [==============================] - 11s 30us/sample - loss: 1.7617e-04 - mean_squared_error: 1.7617e-04 - mean_absolute_error: 0.0029 - val_loss: 1.9577e-04 - val_mean_squared_error: 1.9577e-04 - val_mean_absolute_error: 0.0027\n",
      "Epoch 27/50\n",
      "357314/357314 [==============================] - 11s 32us/sample - loss: 1.7688e-04 - mean_squared_error: 1.7688e-04 - mean_absolute_error: 0.0029 - val_loss: 1.9045e-04 - val_mean_squared_error: 1.9045e-04 - val_mean_absolute_error: 0.0028\n",
      "Epoch 28/50\n",
      "357314/357314 [==============================] - 10s 27us/sample - loss: 1.7601e-04 - mean_squared_error: 1.7601e-04 - mean_absolute_error: 0.0029 - val_loss: 1.9250e-04 - val_mean_squared_error: 1.9250e-04 - val_mean_absolute_error: 0.0027\n",
      "Epoch 29/50\n",
      "357314/357314 [==============================] - 8s 22us/sample - loss: 1.7588e-04 - mean_squared_error: 1.7588e-04 - mean_absolute_error: 0.0029 - val_loss: 1.9284e-04 - val_mean_squared_error: 1.9284e-04 - val_mean_absolute_error: 0.0024\n",
      "Epoch 30/50\n",
      "357314/357314 [==============================] - 8s 22us/sample - loss: 1.7704e-04 - mean_squared_error: 1.7704e-04 - mean_absolute_error: 0.0029 - val_loss: 1.9649e-04 - val_mean_squared_error: 1.9649e-04 - val_mean_absolute_error: 0.0027\n",
      "Epoch 31/50\n",
      "357314/357314 [==============================] - 8s 21us/sample - loss: 1.7680e-04 - mean_squared_error: 1.7680e-04 - mean_absolute_error: 0.0029 - val_loss: 1.9481e-04 - val_mean_squared_error: 1.9481e-04 - val_mean_absolute_error: 0.0027\n",
      "Epoch 32/50\n",
      "357314/357314 [==============================] - 8s 22us/sample - loss: 1.7629e-04 - mean_squared_error: 1.7629e-04 - mean_absolute_error: 0.0029 - val_loss: 2.0240e-04 - val_mean_squared_error: 2.0240e-04 - val_mean_absolute_error: 0.0023\n",
      "Epoch 33/50\n",
      "357314/357314 [==============================] - 21s 59us/sample - loss: 1.7734e-04 - mean_squared_error: 1.7734e-04 - mean_absolute_error: 0.0029 - val_loss: 1.9989e-04 - val_mean_squared_error: 1.9989e-04 - val_mean_absolute_error: 0.0049\n",
      "Epoch 34/50\n",
      "357314/357314 [==============================] - 22s 62us/sample - loss: 1.7689e-04 - mean_squared_error: 1.7689e-04 - mean_absolute_error: 0.0029 - val_loss: 1.8911e-04 - val_mean_squared_error: 1.8911e-04 - val_mean_absolute_error: 0.0023\n",
      "Epoch 35/50\n",
      "357314/357314 [==============================] - 17s 48us/sample - loss: 1.7649e-04 - mean_squared_error: 1.7649e-04 - mean_absolute_error: 0.0029 - val_loss: 2.1392e-04 - val_mean_squared_error: 2.1392e-04 - val_mean_absolute_error: 0.0048\n",
      "Epoch 36/50\n",
      "357314/357314 [==============================] - 19s 53us/sample - loss: 1.7606e-04 - mean_squared_error: 1.7606e-04 - mean_absolute_error: 0.0029 - val_loss: 1.9929e-04 - val_mean_squared_error: 1.9929e-04 - val_mean_absolute_error: 0.0028\n",
      "Epoch 37/50\n",
      "357314/357314 [==============================] - 19s 54us/sample - loss: 1.7673e-04 - mean_squared_error: 1.7673e-04 - mean_absolute_error: 0.0029 - val_loss: 1.9603e-04 - val_mean_squared_error: 1.9603e-04 - val_mean_absolute_error: 0.0020\n",
      "Epoch 38/50\n",
      "357314/357314 [==============================] - 18s 51us/sample - loss: 1.7563e-04 - mean_squared_error: 1.7563e-04 - mean_absolute_error: 0.0029 - val_loss: 2.0093e-04 - val_mean_squared_error: 2.0093e-04 - val_mean_absolute_error: 0.0037\n",
      "Epoch 39/50\n",
      "357314/357314 [==============================] - 20s 56us/sample - loss: 1.7626e-04 - mean_squared_error: 1.7626e-04 - mean_absolute_error: 0.0029 - val_loss: 1.8989e-04 - val_mean_squared_error: 1.8989e-04 - val_mean_absolute_error: 0.0025\n",
      "Epoch 40/50\n",
      "357314/357314 [==============================] - 19s 54us/sample - loss: 1.7646e-04 - mean_squared_error: 1.7646e-04 - mean_absolute_error: 0.0029 - val_loss: 1.9668e-04 - val_mean_squared_error: 1.9668e-04 - val_mean_absolute_error: 0.0029\n",
      "Epoch 41/50\n",
      "357314/357314 [==============================] - 17s 49us/sample - loss: 1.7598e-04 - mean_squared_error: 1.7598e-04 - mean_absolute_error: 0.0029 - val_loss: 1.9707e-04 - val_mean_squared_error: 1.9707e-04 - val_mean_absolute_error: 0.0031\n",
      "Epoch 42/50\n",
      "357314/357314 [==============================] - 16s 43us/sample - loss: 1.7564e-04 - mean_squared_error: 1.7564e-04 - mean_absolute_error: 0.0029 - val_loss: 1.9054e-04 - val_mean_squared_error: 1.9054e-04 - val_mean_absolute_error: 0.0027\n",
      "Epoch 43/50\n",
      "357314/357314 [==============================] - 18s 50us/sample - loss: 1.7575e-04 - mean_squared_error: 1.7575e-04 - mean_absolute_error: 0.0029 - val_loss: 2.0946e-04 - val_mean_squared_error: 2.0946e-04 - val_mean_absolute_error: 0.0043\n",
      "Epoch 44/50\n",
      "357314/357314 [==============================] - 17s 48us/sample - loss: 1.7652e-04 - mean_squared_error: 1.7652e-04 - mean_absolute_error: 0.0029 - val_loss: 2.0447e-04 - val_mean_squared_error: 2.0447e-04 - val_mean_absolute_error: 0.0042\n",
      "Epoch 45/50\n",
      "357314/357314 [==============================] - 18s 51us/sample - loss: 1.7619e-04 - mean_squared_error: 1.7619e-04 - mean_absolute_error: 0.0029 - val_loss: 1.8890e-04 - val_mean_squared_error: 1.8890e-04 - val_mean_absolute_error: 0.0021\n",
      "Epoch 46/50\n",
      "357314/357314 [==============================] - 24s 68us/sample - loss: 1.7617e-04 - mean_squared_error: 1.7617e-04 - mean_absolute_error: 0.0029 - val_loss: 2.0838e-04 - val_mean_squared_error: 2.0838e-04 - val_mean_absolute_error: 0.0021\n",
      "Epoch 47/50\n",
      "357314/357314 [==============================] - 18s 50us/sample - loss: 1.7669e-04 - mean_squared_error: 1.7669e-04 - mean_absolute_error: 0.0029 - val_loss: 1.9186e-04 - val_mean_squared_error: 1.9186e-04 - val_mean_absolute_error: 0.0027\n",
      "Epoch 48/50\n",
      "357314/357314 [==============================] - 18s 50us/sample - loss: 1.7539e-04 - mean_squared_error: 1.7539e-04 - mean_absolute_error: 0.0028 - val_loss: 1.9220e-04 - val_mean_squared_error: 1.9220e-04 - val_mean_absolute_error: 0.0028\n",
      "Epoch 49/50\n",
      "357314/357314 [==============================] - 20s 57us/sample - loss: 1.7549e-04 - mean_squared_error: 1.7549e-04 - mean_absolute_error: 0.0029 - val_loss: 1.8937e-04 - val_mean_squared_error: 1.8937e-04 - val_mean_absolute_error: 0.0024\n",
      "Epoch 50/50\n",
      "357314/357314 [==============================] - 19s 54us/sample - loss: 1.7553e-04 - mean_squared_error: 1.7553e-04 - mean_absolute_error: 0.0029 - val_loss: 1.9412e-04 - val_mean_squared_error: 1.9412e-04 - val_mean_absolute_error: 0.0029\n"
     ]
    }
   ],
   "source": [
    "model.compile(loss='mse', optimizer='adam', metrics=['mse','mae'])\n",
    "history=model.fit(X_train, y_train, epochs=50, batch_size=50,  verbose=1, validation_split=0.2)"
   ]
  },
  {
   "cell_type": "code",
   "execution_count": 133,
   "metadata": {},
   "outputs": [
    {
     "name": "stdout",
     "output_type": "stream",
     "text": [
      "dict_keys(['loss', 'mean_squared_error', 'mean_absolute_error', 'val_loss', 'val_mean_squared_error', 'val_mean_absolute_error'])\n"
     ]
    },
    {
     "data": {
      "image/png": "[encoded data removed]",
      "text/plain": [
       "<Figure size 432x288 with 1 Axes>"
      ]
     },
     "metadata": {
      "needs_background": "light"
     },
     "output_type": "display_data"
    }
   ],
   "source": [
    "print(history.history.keys())\n",
    "# \"Loss\"\n",
    "plt.plot(history.history['loss'])\n",
    "plt.plot(history.history['val_loss'])\n",
    "plt.title('model loss')\n",
    "plt.ylabel('loss')\n",
    "plt.xlabel('epoch')\n",
    "plt.legend(['train', 'validation'], loc='upper left')\n",
    "plt.show()"
   ]
  },
  {
   "cell_type": "code",
   "execution_count": 134,
   "metadata": {},
   "outputs": [],
   "source": [
    "xnew=scaler_x.transform(X_test)\n",
    "ynew=model.predict(xnew)\n",
    "ynew = scaler_y.inverse_transform(ynew)"
   ]
  },
  {
   "cell_type": "code",
   "execution_count": 137,
   "metadata": {},
   "outputs": [
    {
     "data": {
      "image/png": "[encoded data removed]",
      "text/plain": [
       "<Figure size 432x288 with 1 Axes>"
      ]
     },
     "metadata": {
      "needs_background": "light"
     },
     "output_type": "display_data"
    }
   ],
   "source": [
    "plt.plot(y_test,ynew,'.')\n",
    "plt.xlabel('Test set')\n",
    "plt.ylabel('Predicted')\n",
    "plt.title('Prediction of LWC')\n",
    "plt.show()"
   ]
  }
 ],
 "metadata": {
  "kernelspec": {
   "display_name": "Python 3",
   "language": "python",
   "name": "python3"
  },
  "language_info": {
   "codemirror_mode": {
    "name": "ipython",
    "version": 3
   },
   "file_extension": ".py",
   "mimetype": "text/x-python",
   "name": "python",
   "nbconvert_exporter": "python",
   "pygments_lexer": "ipython3",
   "version": "3.7.3"
  }
 },
 "nbformat": 4,
 "nbformat_minor": 2
}
